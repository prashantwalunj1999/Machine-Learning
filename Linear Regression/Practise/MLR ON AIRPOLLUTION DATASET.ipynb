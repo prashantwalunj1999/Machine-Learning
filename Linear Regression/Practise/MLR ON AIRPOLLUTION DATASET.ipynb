{
 "cells": [
  {
   "cell_type": "code",
   "execution_count": 54,
   "id": "167f6a06",
   "metadata": {},
   "outputs": [],
   "source": [
    "################################## Data Analysis & Calculation ##################################\n",
    "\n",
    "import pandas as pd \n",
    "import numpy as np \n",
    "\n",
    "################# Machine Learning ################\n",
    "import statsmodels\n",
    "from statsmodels.stats.anova import anova_lm\n",
    "from statsmodels.stats.outliers_influence import variance_inflation_factor\n",
    "\n",
    "################# Data Visualization ################\n",
    "import seaborn as sns\n",
    "from matplotlib import pyplot as plt\n",
    "%matplotlib inline\n"
   ]
  },
  {
   "cell_type": "markdown",
   "id": "babc6df8",
   "metadata": {},
   "source": [
    "## Data Import"
   ]
  },
  {
   "cell_type": "code",
   "execution_count": 55,
   "id": "8cf51837",
   "metadata": {
    "scrolled": false
   },
   "outputs": [
    {
     "data": {
      "text/html": [
       "<div>\n",
       "<style scoped>\n",
       "    .dataframe tbody tr th:only-of-type {\n",
       "        vertical-align: middle;\n",
       "    }\n",
       "\n",
       "    .dataframe tbody tr th {\n",
       "        vertical-align: top;\n",
       "    }\n",
       "\n",
       "    .dataframe thead th {\n",
       "        text-align: right;\n",
       "    }\n",
       "</style>\n",
       "<table border=\"1\" class=\"dataframe\">\n",
       "  <thead>\n",
       "    <tr style=\"text-align: right;\">\n",
       "      <th></th>\n",
       "      <th>PM10</th>\n",
       "      <th>Pb</th>\n",
       "      <th>Cd</th>\n",
       "      <th>Cu</th>\n",
       "      <th>Cr</th>\n",
       "      <th>Zn</th>\n",
       "      <th>NOx</th>\n",
       "      <th>SO2</th>\n",
       "      <th>Site</th>\n",
       "      <th>Date</th>\n",
       "      <th>Season</th>\n",
       "    </tr>\n",
       "  </thead>\n",
       "  <tbody>\n",
       "    <tr>\n",
       "      <th>0</th>\n",
       "      <td>120.71</td>\n",
       "      <td>2.67</td>\n",
       "      <td>0.01</td>\n",
       "      <td>0.53</td>\n",
       "      <td>0.61</td>\n",
       "      <td>0</td>\n",
       "      <td>84.17</td>\n",
       "      <td>40.37</td>\n",
       "      <td>Mandai</td>\n",
       "      <td>2004-02-07</td>\n",
       "      <td>Summer</td>\n",
       "    </tr>\n",
       "    <tr>\n",
       "      <th>1</th>\n",
       "      <td>140.25</td>\n",
       "      <td>3.49</td>\n",
       "      <td>0.02</td>\n",
       "      <td>0.10</td>\n",
       "      <td>0.91</td>\n",
       "      <td>0</td>\n",
       "      <td>88.81</td>\n",
       "      <td>39.48</td>\n",
       "      <td>Mandai</td>\n",
       "      <td>2004-02-14</td>\n",
       "      <td>Summer</td>\n",
       "    </tr>\n",
       "    <tr>\n",
       "      <th>2</th>\n",
       "      <td>107.01</td>\n",
       "      <td>1.31</td>\n",
       "      <td>0.01</td>\n",
       "      <td>0.19</td>\n",
       "      <td>0.48</td>\n",
       "      <td>0</td>\n",
       "      <td>81.49</td>\n",
       "      <td>48.29</td>\n",
       "      <td>Mandai</td>\n",
       "      <td>2004-02-21</td>\n",
       "      <td>Summer</td>\n",
       "    </tr>\n",
       "    <tr>\n",
       "      <th>3</th>\n",
       "      <td>88.81</td>\n",
       "      <td>0.76</td>\n",
       "      <td>0.00</td>\n",
       "      <td>0.33</td>\n",
       "      <td>0.39</td>\n",
       "      <td>0</td>\n",
       "      <td>61.80</td>\n",
       "      <td>27.42</td>\n",
       "      <td>Mandai</td>\n",
       "      <td>2004-02-28</td>\n",
       "      <td>Summer</td>\n",
       "    </tr>\n",
       "    <tr>\n",
       "      <th>4</th>\n",
       "      <td>75.05</td>\n",
       "      <td>0.60</td>\n",
       "      <td>0.00</td>\n",
       "      <td>0.41</td>\n",
       "      <td>1.54</td>\n",
       "      <td>0</td>\n",
       "      <td>48.71</td>\n",
       "      <td>19.23</td>\n",
       "      <td>Mandai</td>\n",
       "      <td>2004-03-06</td>\n",
       "      <td>Summer</td>\n",
       "    </tr>\n",
       "    <tr>\n",
       "      <th>...</th>\n",
       "      <td>...</td>\n",
       "      <td>...</td>\n",
       "      <td>...</td>\n",
       "      <td>...</td>\n",
       "      <td>...</td>\n",
       "      <td>...</td>\n",
       "      <td>...</td>\n",
       "      <td>...</td>\n",
       "      <td>...</td>\n",
       "      <td>...</td>\n",
       "      <td>...</td>\n",
       "    </tr>\n",
       "    <tr>\n",
       "      <th>146</th>\n",
       "      <td>40.13</td>\n",
       "      <td>0.10</td>\n",
       "      <td>0.00</td>\n",
       "      <td>0.04</td>\n",
       "      <td>0.09</td>\n",
       "      <td>0</td>\n",
       "      <td>18.88</td>\n",
       "      <td>10.09</td>\n",
       "      <td>Bhosari</td>\n",
       "      <td>2004-09-01</td>\n",
       "      <td>Monsoon</td>\n",
       "    </tr>\n",
       "    <tr>\n",
       "      <th>147</th>\n",
       "      <td>40.38</td>\n",
       "      <td>0.10</td>\n",
       "      <td>0.00</td>\n",
       "      <td>0.03</td>\n",
       "      <td>0.09</td>\n",
       "      <td>0</td>\n",
       "      <td>47.56</td>\n",
       "      <td>24.14</td>\n",
       "      <td>Bhosari</td>\n",
       "      <td>2004-09-08</td>\n",
       "      <td>Monsoon</td>\n",
       "    </tr>\n",
       "    <tr>\n",
       "      <th>148</th>\n",
       "      <td>31.28</td>\n",
       "      <td>0.11</td>\n",
       "      <td>0.00</td>\n",
       "      <td>0.02</td>\n",
       "      <td>0.05</td>\n",
       "      <td>0</td>\n",
       "      <td>31.53</td>\n",
       "      <td>26.64</td>\n",
       "      <td>Bhosari</td>\n",
       "      <td>2004-09-15</td>\n",
       "      <td>Monsoon</td>\n",
       "    </tr>\n",
       "    <tr>\n",
       "      <th>149</th>\n",
       "      <td>52.10</td>\n",
       "      <td>0.48</td>\n",
       "      <td>0.00</td>\n",
       "      <td>0.04</td>\n",
       "      <td>0.06</td>\n",
       "      <td>0</td>\n",
       "      <td>42.08</td>\n",
       "      <td>22.95</td>\n",
       "      <td>Bhosari</td>\n",
       "      <td>2004-09-22</td>\n",
       "      <td>Monsoon</td>\n",
       "    </tr>\n",
       "    <tr>\n",
       "      <th>150</th>\n",
       "      <td>27.19</td>\n",
       "      <td>0.02</td>\n",
       "      <td>0.00</td>\n",
       "      <td>0.02</td>\n",
       "      <td>0.03</td>\n",
       "      <td>0</td>\n",
       "      <td>53.29</td>\n",
       "      <td>36.24</td>\n",
       "      <td>Bhosari</td>\n",
       "      <td>2004-09-29</td>\n",
       "      <td>Monsoon</td>\n",
       "    </tr>\n",
       "  </tbody>\n",
       "</table>\n",
       "<p>151 rows × 11 columns</p>\n",
       "</div>"
      ],
      "text/plain": [
       "       PM10    Pb    Cd    Cu    Cr  Zn    NOx    SO2     Site       Date  \\\n",
       "0    120.71  2.67  0.01  0.53  0.61   0  84.17  40.37   Mandai 2004-02-07   \n",
       "1    140.25  3.49  0.02  0.10  0.91   0  88.81  39.48   Mandai 2004-02-14   \n",
       "2    107.01  1.31  0.01  0.19  0.48   0  81.49  48.29   Mandai 2004-02-21   \n",
       "3     88.81  0.76  0.00  0.33  0.39   0  61.80  27.42   Mandai 2004-02-28   \n",
       "4     75.05  0.60  0.00  0.41  1.54   0  48.71  19.23   Mandai 2004-03-06   \n",
       "..      ...   ...   ...   ...   ...  ..    ...    ...      ...        ...   \n",
       "146   40.13  0.10  0.00  0.04  0.09   0  18.88  10.09  Bhosari 2004-09-01   \n",
       "147   40.38  0.10  0.00  0.03  0.09   0  47.56  24.14  Bhosari 2004-09-08   \n",
       "148   31.28  0.11  0.00  0.02  0.05   0  31.53  26.64  Bhosari 2004-09-15   \n",
       "149   52.10  0.48  0.00  0.04  0.06   0  42.08  22.95  Bhosari 2004-09-22   \n",
       "150   27.19  0.02  0.00  0.02  0.03   0  53.29  36.24  Bhosari 2004-09-29   \n",
       "\n",
       "      Season  \n",
       "0     Summer  \n",
       "1     Summer  \n",
       "2     Summer  \n",
       "3     Summer  \n",
       "4     Summer  \n",
       "..       ...  \n",
       "146  Monsoon  \n",
       "147  Monsoon  \n",
       "148  Monsoon  \n",
       "149  Monsoon  \n",
       "150  Monsoon  \n",
       "\n",
       "[151 rows x 11 columns]"
      ]
     },
     "execution_count": 55,
     "metadata": {},
     "output_type": "execute_result"
    }
   ],
   "source": [
    "new = pd.read_excel(r\"C:\\Users\\justw\\Downloads\\Machine Learning with Python\\Linear Regression\\Practise\\AirPollution.xls\") #for an earlier version of Excel, you may need to use the file extension of 'xls'\n",
    "\n",
    "new"
   ]
  },
  {
   "cell_type": "code",
   "execution_count": 56,
   "id": "e96d9a6d",
   "metadata": {},
   "outputs": [
    {
     "data": {
      "text/html": [
       "<div>\n",
       "<style scoped>\n",
       "    .dataframe tbody tr th:only-of-type {\n",
       "        vertical-align: middle;\n",
       "    }\n",
       "\n",
       "    .dataframe tbody tr th {\n",
       "        vertical-align: top;\n",
       "    }\n",
       "\n",
       "    .dataframe thead th {\n",
       "        text-align: right;\n",
       "    }\n",
       "</style>\n",
       "<table border=\"1\" class=\"dataframe\">\n",
       "  <thead>\n",
       "    <tr style=\"text-align: right;\">\n",
       "      <th></th>\n",
       "      <th>PM10</th>\n",
       "      <th>Pb</th>\n",
       "      <th>Cd</th>\n",
       "      <th>Cu</th>\n",
       "      <th>Cr</th>\n",
       "      <th>Zn</th>\n",
       "      <th>NOx</th>\n",
       "      <th>SO2</th>\n",
       "    </tr>\n",
       "  </thead>\n",
       "  <tbody>\n",
       "    <tr>\n",
       "      <th>0</th>\n",
       "      <td>120.71</td>\n",
       "      <td>2.67</td>\n",
       "      <td>0.01</td>\n",
       "      <td>0.53</td>\n",
       "      <td>0.61</td>\n",
       "      <td>0</td>\n",
       "      <td>84.17</td>\n",
       "      <td>40.37</td>\n",
       "    </tr>\n",
       "    <tr>\n",
       "      <th>1</th>\n",
       "      <td>140.25</td>\n",
       "      <td>3.49</td>\n",
       "      <td>0.02</td>\n",
       "      <td>0.10</td>\n",
       "      <td>0.91</td>\n",
       "      <td>0</td>\n",
       "      <td>88.81</td>\n",
       "      <td>39.48</td>\n",
       "    </tr>\n",
       "    <tr>\n",
       "      <th>2</th>\n",
       "      <td>107.01</td>\n",
       "      <td>1.31</td>\n",
       "      <td>0.01</td>\n",
       "      <td>0.19</td>\n",
       "      <td>0.48</td>\n",
       "      <td>0</td>\n",
       "      <td>81.49</td>\n",
       "      <td>48.29</td>\n",
       "    </tr>\n",
       "    <tr>\n",
       "      <th>3</th>\n",
       "      <td>88.81</td>\n",
       "      <td>0.76</td>\n",
       "      <td>0.00</td>\n",
       "      <td>0.33</td>\n",
       "      <td>0.39</td>\n",
       "      <td>0</td>\n",
       "      <td>61.80</td>\n",
       "      <td>27.42</td>\n",
       "    </tr>\n",
       "    <tr>\n",
       "      <th>4</th>\n",
       "      <td>75.05</td>\n",
       "      <td>0.60</td>\n",
       "      <td>0.00</td>\n",
       "      <td>0.41</td>\n",
       "      <td>1.54</td>\n",
       "      <td>0</td>\n",
       "      <td>48.71</td>\n",
       "      <td>19.23</td>\n",
       "    </tr>\n",
       "    <tr>\n",
       "      <th>...</th>\n",
       "      <td>...</td>\n",
       "      <td>...</td>\n",
       "      <td>...</td>\n",
       "      <td>...</td>\n",
       "      <td>...</td>\n",
       "      <td>...</td>\n",
       "      <td>...</td>\n",
       "      <td>...</td>\n",
       "    </tr>\n",
       "    <tr>\n",
       "      <th>146</th>\n",
       "      <td>40.13</td>\n",
       "      <td>0.10</td>\n",
       "      <td>0.00</td>\n",
       "      <td>0.04</td>\n",
       "      <td>0.09</td>\n",
       "      <td>0</td>\n",
       "      <td>18.88</td>\n",
       "      <td>10.09</td>\n",
       "    </tr>\n",
       "    <tr>\n",
       "      <th>147</th>\n",
       "      <td>40.38</td>\n",
       "      <td>0.10</td>\n",
       "      <td>0.00</td>\n",
       "      <td>0.03</td>\n",
       "      <td>0.09</td>\n",
       "      <td>0</td>\n",
       "      <td>47.56</td>\n",
       "      <td>24.14</td>\n",
       "    </tr>\n",
       "    <tr>\n",
       "      <th>148</th>\n",
       "      <td>31.28</td>\n",
       "      <td>0.11</td>\n",
       "      <td>0.00</td>\n",
       "      <td>0.02</td>\n",
       "      <td>0.05</td>\n",
       "      <td>0</td>\n",
       "      <td>31.53</td>\n",
       "      <td>26.64</td>\n",
       "    </tr>\n",
       "    <tr>\n",
       "      <th>149</th>\n",
       "      <td>52.10</td>\n",
       "      <td>0.48</td>\n",
       "      <td>0.00</td>\n",
       "      <td>0.04</td>\n",
       "      <td>0.06</td>\n",
       "      <td>0</td>\n",
       "      <td>42.08</td>\n",
       "      <td>22.95</td>\n",
       "    </tr>\n",
       "    <tr>\n",
       "      <th>150</th>\n",
       "      <td>27.19</td>\n",
       "      <td>0.02</td>\n",
       "      <td>0.00</td>\n",
       "      <td>0.02</td>\n",
       "      <td>0.03</td>\n",
       "      <td>0</td>\n",
       "      <td>53.29</td>\n",
       "      <td>36.24</td>\n",
       "    </tr>\n",
       "  </tbody>\n",
       "</table>\n",
       "<p>151 rows × 8 columns</p>\n",
       "</div>"
      ],
      "text/plain": [
       "       PM10    Pb    Cd    Cu    Cr  Zn    NOx    SO2\n",
       "0    120.71  2.67  0.01  0.53  0.61   0  84.17  40.37\n",
       "1    140.25  3.49  0.02  0.10  0.91   0  88.81  39.48\n",
       "2    107.01  1.31  0.01  0.19  0.48   0  81.49  48.29\n",
       "3     88.81  0.76  0.00  0.33  0.39   0  61.80  27.42\n",
       "4     75.05  0.60  0.00  0.41  1.54   0  48.71  19.23\n",
       "..      ...   ...   ...   ...   ...  ..    ...    ...\n",
       "146   40.13  0.10  0.00  0.04  0.09   0  18.88  10.09\n",
       "147   40.38  0.10  0.00  0.03  0.09   0  47.56  24.14\n",
       "148   31.28  0.11  0.00  0.02  0.05   0  31.53  26.64\n",
       "149   52.10  0.48  0.00  0.04  0.06   0  42.08  22.95\n",
       "150   27.19  0.02  0.00  0.02  0.03   0  53.29  36.24\n",
       "\n",
       "[151 rows x 8 columns]"
      ]
     },
     "execution_count": 56,
     "metadata": {},
     "output_type": "execute_result"
    }
   ],
   "source": [
    "new=new.drop(['Site','Date','Season'],axis=1)\n",
    "new"
   ]
  },
  {
   "cell_type": "markdown",
   "id": "10e560b5",
   "metadata": {},
   "source": [
    "## Data Type "
   ]
  },
  {
   "cell_type": "code",
   "execution_count": 57,
   "id": "d5564716",
   "metadata": {},
   "outputs": [
    {
     "name": "stdout",
     "output_type": "stream",
     "text": [
      "<class 'pandas.core.frame.DataFrame'>\n",
      "RangeIndex: 151 entries, 0 to 150\n",
      "Data columns (total 8 columns):\n",
      " #   Column  Non-Null Count  Dtype  \n",
      "---  ------  --------------  -----  \n",
      " 0   PM10    151 non-null    float64\n",
      " 1   Pb      151 non-null    float64\n",
      " 2   Cd      151 non-null    float64\n",
      " 3   Cu      151 non-null    float64\n",
      " 4   Cr      151 non-null    float64\n",
      " 5   Zn      151 non-null    int64  \n",
      " 6   NOx     151 non-null    float64\n",
      " 7   SO2     151 non-null    float64\n",
      "dtypes: float64(7), int64(1)\n",
      "memory usage: 9.6 KB\n"
     ]
    }
   ],
   "source": [
    "new.info()"
   ]
  },
  {
   "cell_type": "markdown",
   "id": "c049148d",
   "metadata": {},
   "source": [
    "## Univariate Analysis"
   ]
  },
  {
   "cell_type": "code",
   "execution_count": 58,
   "id": "5e5bcdf0",
   "metadata": {},
   "outputs": [
    {
     "data": {
      "text/html": [
       "<div>\n",
       "<style scoped>\n",
       "    .dataframe tbody tr th:only-of-type {\n",
       "        vertical-align: middle;\n",
       "    }\n",
       "\n",
       "    .dataframe tbody tr th {\n",
       "        vertical-align: top;\n",
       "    }\n",
       "\n",
       "    .dataframe thead th {\n",
       "        text-align: right;\n",
       "    }\n",
       "</style>\n",
       "<table border=\"1\" class=\"dataframe\">\n",
       "  <thead>\n",
       "    <tr style=\"text-align: right;\">\n",
       "      <th></th>\n",
       "      <th>PM10</th>\n",
       "      <th>Pb</th>\n",
       "      <th>Cd</th>\n",
       "      <th>Cu</th>\n",
       "      <th>Cr</th>\n",
       "      <th>Zn</th>\n",
       "      <th>NOx</th>\n",
       "      <th>SO2</th>\n",
       "    </tr>\n",
       "  </thead>\n",
       "  <tbody>\n",
       "    <tr>\n",
       "      <th>count</th>\n",
       "      <td>151.000000</td>\n",
       "      <td>151.000000</td>\n",
       "      <td>151.000000</td>\n",
       "      <td>151.000000</td>\n",
       "      <td>151.000000</td>\n",
       "      <td>151.0</td>\n",
       "      <td>151.000000</td>\n",
       "      <td>151.000000</td>\n",
       "    </tr>\n",
       "    <tr>\n",
       "      <th>mean</th>\n",
       "      <td>68.536026</td>\n",
       "      <td>0.716358</td>\n",
       "      <td>0.000265</td>\n",
       "      <td>0.331854</td>\n",
       "      <td>0.390066</td>\n",
       "      <td>0.0</td>\n",
       "      <td>42.692914</td>\n",
       "      <td>22.359868</td>\n",
       "    </tr>\n",
       "    <tr>\n",
       "      <th>std</th>\n",
       "      <td>40.908548</td>\n",
       "      <td>0.673069</td>\n",
       "      <td>0.001982</td>\n",
       "      <td>0.408259</td>\n",
       "      <td>0.434575</td>\n",
       "      <td>0.0</td>\n",
       "      <td>23.101723</td>\n",
       "      <td>10.393498</td>\n",
       "    </tr>\n",
       "    <tr>\n",
       "      <th>min</th>\n",
       "      <td>16.240000</td>\n",
       "      <td>0.000000</td>\n",
       "      <td>0.000000</td>\n",
       "      <td>0.000000</td>\n",
       "      <td>0.000000</td>\n",
       "      <td>0.0</td>\n",
       "      <td>8.260000</td>\n",
       "      <td>0.000000</td>\n",
       "    </tr>\n",
       "    <tr>\n",
       "      <th>25%</th>\n",
       "      <td>37.005000</td>\n",
       "      <td>0.220000</td>\n",
       "      <td>0.000000</td>\n",
       "      <td>0.040000</td>\n",
       "      <td>0.085000</td>\n",
       "      <td>0.0</td>\n",
       "      <td>25.735000</td>\n",
       "      <td>15.165000</td>\n",
       "    </tr>\n",
       "    <tr>\n",
       "      <th>50%</th>\n",
       "      <td>59.610000</td>\n",
       "      <td>0.570000</td>\n",
       "      <td>0.000000</td>\n",
       "      <td>0.130000</td>\n",
       "      <td>0.230000</td>\n",
       "      <td>0.0</td>\n",
       "      <td>37.000000</td>\n",
       "      <td>20.930000</td>\n",
       "    </tr>\n",
       "    <tr>\n",
       "      <th>75%</th>\n",
       "      <td>89.820000</td>\n",
       "      <td>0.965000</td>\n",
       "      <td>0.000000</td>\n",
       "      <td>0.535000</td>\n",
       "      <td>0.580000</td>\n",
       "      <td>0.0</td>\n",
       "      <td>54.695000</td>\n",
       "      <td>27.420000</td>\n",
       "    </tr>\n",
       "    <tr>\n",
       "      <th>max</th>\n",
       "      <td>194.740000</td>\n",
       "      <td>3.490000</td>\n",
       "      <td>0.020000</td>\n",
       "      <td>1.650000</td>\n",
       "      <td>3.220000</td>\n",
       "      <td>0.0</td>\n",
       "      <td>121.460000</td>\n",
       "      <td>53.270000</td>\n",
       "    </tr>\n",
       "  </tbody>\n",
       "</table>\n",
       "</div>"
      ],
      "text/plain": [
       "             PM10          Pb          Cd          Cu          Cr     Zn  \\\n",
       "count  151.000000  151.000000  151.000000  151.000000  151.000000  151.0   \n",
       "mean    68.536026    0.716358    0.000265    0.331854    0.390066    0.0   \n",
       "std     40.908548    0.673069    0.001982    0.408259    0.434575    0.0   \n",
       "min     16.240000    0.000000    0.000000    0.000000    0.000000    0.0   \n",
       "25%     37.005000    0.220000    0.000000    0.040000    0.085000    0.0   \n",
       "50%     59.610000    0.570000    0.000000    0.130000    0.230000    0.0   \n",
       "75%     89.820000    0.965000    0.000000    0.535000    0.580000    0.0   \n",
       "max    194.740000    3.490000    0.020000    1.650000    3.220000    0.0   \n",
       "\n",
       "              NOx         SO2  \n",
       "count  151.000000  151.000000  \n",
       "mean    42.692914   22.359868  \n",
       "std     23.101723   10.393498  \n",
       "min      8.260000    0.000000  \n",
       "25%     25.735000   15.165000  \n",
       "50%     37.000000   20.930000  \n",
       "75%     54.695000   27.420000  \n",
       "max    121.460000   53.270000  "
      ]
     },
     "execution_count": 58,
     "metadata": {},
     "output_type": "execute_result"
    }
   ],
   "source": [
    "new.describe()"
   ]
  },
  {
   "cell_type": "markdown",
   "id": "3b7f640f",
   "metadata": {},
   "source": [
    "## EDA"
   ]
  },
  {
   "cell_type": "code",
   "execution_count": 59,
   "id": "aae5e5e6",
   "metadata": {},
   "outputs": [
    {
     "data": {
      "text/plain": [
       "<AxesSubplot:>"
      ]
     },
     "execution_count": 59,
     "metadata": {},
     "output_type": "execute_result"
    },
    {
     "data": {
      "image/png": "[encoded data removed]",
      "text/plain": [
       "<Figure size 432x288 with 1 Axes>"
      ]
     },
     "metadata": {
      "needs_background": "light"
     },
     "output_type": "display_data"
    }
   ],
   "source": [
    "sns.boxplot(data=new)"
   ]
  },
  {
   "cell_type": "code",
   "execution_count": 60,
   "id": "7baf12eb",
   "metadata": {},
   "outputs": [
    {
     "data": {
      "text/plain": [
       "169.0425"
      ]
     },
     "execution_count": 60,
     "metadata": {},
     "output_type": "execute_result"
    }
   ],
   "source": [
    "q1 = new['PM10'].quantile(0.25)\n",
    "q3 = new['PM10'].quantile(0.75)\n",
    "iqr = q3-q1 #Interquartile range\n",
    "\n",
    "upper_limit = q3+1.5*iqr \n",
    "upper_limit"
   ]
  },
  {
   "cell_type": "code",
   "execution_count": 61,
   "id": "f7d93e77",
   "metadata": {},
   "outputs": [],
   "source": [
    "new['PM10']=np.where(new['PM10'] > upper_limit,upper_limit,new['PM10']) # upper limit"
   ]
  },
  {
   "cell_type": "code",
   "execution_count": 62,
   "id": "5ab23ddc",
   "metadata": {},
   "outputs": [
    {
     "data": {
      "text/plain": [
       "<AxesSubplot:>"
      ]
     },
     "execution_count": 62,
     "metadata": {},
     "output_type": "execute_result"
    },
    {
     "data": {
      "image/png": "[encoded data removed]",
      "text/plain": [
       "<Figure size 432x288 with 1 Axes>"
      ]
     },
     "metadata": {
      "needs_background": "light"
     },
     "output_type": "display_data"
    }
   ],
   "source": [
    "sns.boxplot(data=new)"
   ]
  },
  {
   "cell_type": "code",
   "execution_count": 63,
   "id": "e50d147a",
   "metadata": {},
   "outputs": [
    {
     "data": {
      "text/plain": [
       "98.13499999999999"
      ]
     },
     "execution_count": 63,
     "metadata": {},
     "output_type": "execute_result"
    }
   ],
   "source": [
    "q1 = new['NOx'].quantile(0.25)\n",
    "q3 = new['NOx'].quantile(0.75)\n",
    "iqr = q3-q1 #Interquartile range\n",
    "\n",
    "upper_limit = q3+1.5*iqr #acceptable range\n",
    "upper_limit"
   ]
  },
  {
   "cell_type": "code",
   "execution_count": 64,
   "id": "69ddfe25",
   "metadata": {},
   "outputs": [],
   "source": [
    "new['NOx']=np.where(new['NOx'] > upper_limit,upper_limit,new['NOx'])"
   ]
  },
  {
   "cell_type": "code",
   "execution_count": 65,
   "id": "11825b21",
   "metadata": {},
   "outputs": [
    {
     "data": {
      "text/plain": [
       "<AxesSubplot:>"
      ]
     },
     "execution_count": 65,
     "metadata": {},
     "output_type": "execute_result"
    },
    {
     "data": {
      "image/png": "[encoded data removed]",
      "text/plain": [
       "<Figure size 432x288 with 1 Axes>"
      ]
     },
     "metadata": {
      "needs_background": "light"
     },
     "output_type": "display_data"
    }
   ],
   "source": [
    "sns.boxplot(data=new)"
   ]
  },
  {
   "cell_type": "code",
   "execution_count": 66,
   "id": "406a91ec",
   "metadata": {},
   "outputs": [
    {
     "data": {
      "text/plain": [
       "45.80250000000001"
      ]
     },
     "execution_count": 66,
     "metadata": {},
     "output_type": "execute_result"
    }
   ],
   "source": [
    "q1 = new['SO2'].quantile(0.25)\n",
    "q3 = new['SO2'].quantile(0.75)\n",
    "iqr = q3-q1 #Interquartile range\n",
    "\n",
    "upper_limit = q3+1.5*iqr #acceptable range\n",
    "upper_limit"
   ]
  },
  {
   "cell_type": "code",
   "execution_count": 67,
   "id": "091f758c",
   "metadata": {},
   "outputs": [],
   "source": [
    "new['SO2']=np.where(new['SO2'] > upper_limit,upper_limit,new['SO2'])"
   ]
  },
  {
   "cell_type": "code",
   "execution_count": 68,
   "id": "61c5b889",
   "metadata": {},
   "outputs": [
    {
     "data": {
      "text/plain": [
       "<AxesSubplot:>"
      ]
     },
     "execution_count": 68,
     "metadata": {},
     "output_type": "execute_result"
    },
    {
     "data": {
      "image/png": "[encoded data removed]",
      "text/plain": [
       "<Figure size 432x288 with 1 Axes>"
      ]
     },
     "metadata": {
      "needs_background": "light"
     },
     "output_type": "display_data"
    }
   ],
   "source": [
    "sns.boxplot(data=new)"
   ]
  },
  {
   "cell_type": "code",
   "execution_count": 69,
   "id": "1efa38c1",
   "metadata": {},
   "outputs": [
    {
     "data": {
      "text/plain": [
       "2.0825"
      ]
     },
     "execution_count": 69,
     "metadata": {},
     "output_type": "execute_result"
    }
   ],
   "source": [
    "q1 = new['Pb'].quantile(0.25)\n",
    "q3 = new['Pb'].quantile(0.75)\n",
    "iqr = q3-q1 #Interquartile range\n",
    "\n",
    "upper_limit = q3+1.5*iqr #acceptable range\n",
    "upper_limit"
   ]
  },
  {
   "cell_type": "code",
   "execution_count": 70,
   "id": "bfc0bc32",
   "metadata": {},
   "outputs": [],
   "source": [
    "new['Pb']=np.where(new['Pb'] > upper_limit,upper_limit,new['Pb'])"
   ]
  },
  {
   "cell_type": "code",
   "execution_count": 71,
   "id": "71f123ef",
   "metadata": {},
   "outputs": [
    {
     "data": {
      "text/plain": [
       "<AxesSubplot:>"
      ]
     },
     "execution_count": 71,
     "metadata": {},
     "output_type": "execute_result"
    },
    {
     "data": {
      "image/png": "[encoded data removed]",
      "text/plain": [
       "<Figure size 432x288 with 1 Axes>"
      ]
     },
     "metadata": {
      "needs_background": "light"
     },
     "output_type": "display_data"
    }
   ],
   "source": [
    "sns.boxplot(data=new)"
   ]
  },
  {
   "cell_type": "code",
   "execution_count": 72,
   "id": "939f419c",
   "metadata": {},
   "outputs": [
    {
     "data": {
      "text/plain": [
       "0.0"
      ]
     },
     "execution_count": 72,
     "metadata": {},
     "output_type": "execute_result"
    }
   ],
   "source": [
    "q1 = new['Cd'].quantile(0.25)\n",
    "q3 = new['Cd'].quantile(0.75)\n",
    "iqr = q3-q1 #Interquartile range\n",
    "#low_limit = q1-1.5*iqr #acceptable range\n",
    "upper_limit = q3+1.5*iqr #acceptable range\n",
    "upper_limit"
   ]
  },
  {
   "cell_type": "code",
   "execution_count": 73,
   "id": "fdf82db4",
   "metadata": {},
   "outputs": [],
   "source": [
    "new['Cd']=np.where(new['Cd'] > upper_limit,upper_limit,new['Cd'])"
   ]
  },
  {
   "cell_type": "code",
   "execution_count": 74,
   "id": "08ce3cba",
   "metadata": {},
   "outputs": [
    {
     "data": {
      "text/plain": [
       "<AxesSubplot:>"
      ]
     },
     "execution_count": 74,
     "metadata": {},
     "output_type": "execute_result"
    },
    {
     "data": {
      "image/png": "[encoded data removed]",
      "text/plain": [
       "<Figure size 432x288 with 1 Axes>"
      ]
     },
     "metadata": {
      "needs_background": "light"
     },
     "output_type": "display_data"
    }
   ],
   "source": [
    "sns.boxplot(data=new)"
   ]
  },
  {
   "cell_type": "code",
   "execution_count": 75,
   "id": "c1fb0310",
   "metadata": {},
   "outputs": [
    {
     "data": {
      "text/plain": [
       "1.2775"
      ]
     },
     "execution_count": 75,
     "metadata": {},
     "output_type": "execute_result"
    }
   ],
   "source": [
    "q1 = new['Cu'].quantile(0.25)\n",
    "q3 = new['Cu'].quantile(0.75)\n",
    "iqr = q3-q1 #Interquartile range\n",
    "#low_limit = q1-1.5*iqr #acceptable range\n",
    "upper_limit = q3+1.5*iqr #acceptable range\n",
    "upper_limit"
   ]
  },
  {
   "cell_type": "code",
   "execution_count": 76,
   "id": "d00397ae",
   "metadata": {},
   "outputs": [],
   "source": [
    "new['Cu']=np.where(new['Cu'] > upper_limit,upper_limit,new['Cu'])"
   ]
  },
  {
   "cell_type": "code",
   "execution_count": 77,
   "id": "79995824",
   "metadata": {},
   "outputs": [
    {
     "data": {
      "text/plain": [
       "<AxesSubplot:>"
      ]
     },
     "execution_count": 77,
     "metadata": {},
     "output_type": "execute_result"
    },
    {
     "data": {
      "image/png": "[encoded data removed]",
      "text/plain": [
       "<Figure size 432x288 with 1 Axes>"
      ]
     },
     "metadata": {
      "needs_background": "light"
     },
     "output_type": "display_data"
    }
   ],
   "source": [
    "sns.boxplot(data=new)"
   ]
  },
  {
   "cell_type": "code",
   "execution_count": 78,
   "id": "1c9725fc",
   "metadata": {},
   "outputs": [
    {
     "data": {
      "text/plain": [
       "1.3224999999999998"
      ]
     },
     "execution_count": 78,
     "metadata": {},
     "output_type": "execute_result"
    }
   ],
   "source": [
    "q1 = new['Cr'].quantile(0.25)\n",
    "q3 = new['Cr'].quantile(0.75)\n",
    "iqr = q3-q1 #Interquartile range\n",
    "#low_limit = q1-1.5*iqr #acceptable range\n",
    "upper_limit = q3+1.5*iqr #acceptable range\n",
    "upper_limit"
   ]
  },
  {
   "cell_type": "code",
   "execution_count": 79,
   "id": "dbe610c2",
   "metadata": {},
   "outputs": [],
   "source": [
    "new['Cr']=np.where(new['Cr'] > upper_limit,upper_limit,new['Cr'])"
   ]
  },
  {
   "cell_type": "code",
   "execution_count": 80,
   "id": "ec4a9409",
   "metadata": {},
   "outputs": [
    {
     "data": {
      "text/plain": [
       "<AxesSubplot:>"
      ]
     },
     "execution_count": 80,
     "metadata": {},
     "output_type": "execute_result"
    },
    {
     "data": {
      "image/png": "[encoded data removed]",
      "text/plain": [
       "<Figure size 432x288 with 1 Axes>"
      ]
     },
     "metadata": {
      "needs_background": "light"
     },
     "output_type": "display_data"
    }
   ],
   "source": [
    "sns.boxplot(data=new)"
   ]
  },
  {
   "cell_type": "code",
   "execution_count": 81,
   "id": "8440c11f",
   "metadata": {},
   "outputs": [
    {
     "data": {
      "text/html": [
       "<div>\n",
       "<style scoped>\n",
       "    .dataframe tbody tr th:only-of-type {\n",
       "        vertical-align: middle;\n",
       "    }\n",
       "\n",
       "    .dataframe tbody tr th {\n",
       "        vertical-align: top;\n",
       "    }\n",
       "\n",
       "    .dataframe thead th {\n",
       "        text-align: right;\n",
       "    }\n",
       "</style>\n",
       "<table border=\"1\" class=\"dataframe\">\n",
       "  <thead>\n",
       "    <tr style=\"text-align: right;\">\n",
       "      <th></th>\n",
       "      <th>PM10</th>\n",
       "      <th>Pb</th>\n",
       "      <th>Cd</th>\n",
       "      <th>Cu</th>\n",
       "      <th>Cr</th>\n",
       "      <th>Zn</th>\n",
       "      <th>NOx</th>\n",
       "      <th>SO2</th>\n",
       "    </tr>\n",
       "  </thead>\n",
       "  <tbody>\n",
       "    <tr>\n",
       "      <th>count</th>\n",
       "      <td>151.00000</td>\n",
       "      <td>151.000000</td>\n",
       "      <td>151.0</td>\n",
       "      <td>151.000000</td>\n",
       "      <td>151.000000</td>\n",
       "      <td>151.0</td>\n",
       "      <td>151.000000</td>\n",
       "      <td>151.000000</td>\n",
       "    </tr>\n",
       "    <tr>\n",
       "      <th>mean</th>\n",
       "      <td>68.06856</td>\n",
       "      <td>0.679983</td>\n",
       "      <td>0.0</td>\n",
       "      <td>0.327053</td>\n",
       "      <td>0.372848</td>\n",
       "      <td>0.0</td>\n",
       "      <td>42.501755</td>\n",
       "      <td>22.226656</td>\n",
       "    </tr>\n",
       "    <tr>\n",
       "      <th>std</th>\n",
       "      <td>39.61346</td>\n",
       "      <td>0.560941</td>\n",
       "      <td>0.0</td>\n",
       "      <td>0.395327</td>\n",
       "      <td>0.361985</td>\n",
       "      <td>0.0</td>\n",
       "      <td>22.551657</td>\n",
       "      <td>10.049931</td>\n",
       "    </tr>\n",
       "    <tr>\n",
       "      <th>min</th>\n",
       "      <td>16.24000</td>\n",
       "      <td>0.000000</td>\n",
       "      <td>0.0</td>\n",
       "      <td>0.000000</td>\n",
       "      <td>0.000000</td>\n",
       "      <td>0.0</td>\n",
       "      <td>8.260000</td>\n",
       "      <td>0.000000</td>\n",
       "    </tr>\n",
       "    <tr>\n",
       "      <th>25%</th>\n",
       "      <td>37.00500</td>\n",
       "      <td>0.220000</td>\n",
       "      <td>0.0</td>\n",
       "      <td>0.040000</td>\n",
       "      <td>0.085000</td>\n",
       "      <td>0.0</td>\n",
       "      <td>25.735000</td>\n",
       "      <td>15.165000</td>\n",
       "    </tr>\n",
       "    <tr>\n",
       "      <th>50%</th>\n",
       "      <td>59.61000</td>\n",
       "      <td>0.570000</td>\n",
       "      <td>0.0</td>\n",
       "      <td>0.130000</td>\n",
       "      <td>0.230000</td>\n",
       "      <td>0.0</td>\n",
       "      <td>37.000000</td>\n",
       "      <td>20.930000</td>\n",
       "    </tr>\n",
       "    <tr>\n",
       "      <th>75%</th>\n",
       "      <td>89.82000</td>\n",
       "      <td>0.965000</td>\n",
       "      <td>0.0</td>\n",
       "      <td>0.535000</td>\n",
       "      <td>0.580000</td>\n",
       "      <td>0.0</td>\n",
       "      <td>54.695000</td>\n",
       "      <td>27.420000</td>\n",
       "    </tr>\n",
       "    <tr>\n",
       "      <th>max</th>\n",
       "      <td>169.04250</td>\n",
       "      <td>2.082500</td>\n",
       "      <td>0.0</td>\n",
       "      <td>1.277500</td>\n",
       "      <td>1.322500</td>\n",
       "      <td>0.0</td>\n",
       "      <td>98.135000</td>\n",
       "      <td>45.802500</td>\n",
       "    </tr>\n",
       "  </tbody>\n",
       "</table>\n",
       "</div>"
      ],
      "text/plain": [
       "            PM10          Pb     Cd          Cu          Cr     Zn  \\\n",
       "count  151.00000  151.000000  151.0  151.000000  151.000000  151.0   \n",
       "mean    68.06856    0.679983    0.0    0.327053    0.372848    0.0   \n",
       "std     39.61346    0.560941    0.0    0.395327    0.361985    0.0   \n",
       "min     16.24000    0.000000    0.0    0.000000    0.000000    0.0   \n",
       "25%     37.00500    0.220000    0.0    0.040000    0.085000    0.0   \n",
       "50%     59.61000    0.570000    0.0    0.130000    0.230000    0.0   \n",
       "75%     89.82000    0.965000    0.0    0.535000    0.580000    0.0   \n",
       "max    169.04250    2.082500    0.0    1.277500    1.322500    0.0   \n",
       "\n",
       "              NOx         SO2  \n",
       "count  151.000000  151.000000  \n",
       "mean    42.501755   22.226656  \n",
       "std     22.551657   10.049931  \n",
       "min      8.260000    0.000000  \n",
       "25%     25.735000   15.165000  \n",
       "50%     37.000000   20.930000  \n",
       "75%     54.695000   27.420000  \n",
       "max     98.135000   45.802500  "
      ]
     },
     "execution_count": 81,
     "metadata": {},
     "output_type": "execute_result"
    }
   ],
   "source": [
    "new.describe()"
   ]
  },
  {
   "cell_type": "code",
   "execution_count": 82,
   "id": "79c0c02d",
   "metadata": {},
   "outputs": [
    {
     "data": {
      "text/plain": [
       "PM10    0\n",
       "Pb      0\n",
       "Cd      0\n",
       "Cu      0\n",
       "Cr      0\n",
       "Zn      0\n",
       "NOx     0\n",
       "SO2     0\n",
       "dtype: int64"
      ]
     },
     "execution_count": 82,
     "metadata": {},
     "output_type": "execute_result"
    }
   ],
   "source": [
    "new.isna().sum()"
   ]
  },
  {
   "cell_type": "markdown",
   "id": "80386954",
   "metadata": {},
   "source": [
    "## Splitting the data into train and test set"
   ]
  },
  {
   "cell_type": "code",
   "execution_count": 83,
   "id": "91f42d9a",
   "metadata": {},
   "outputs": [
    {
     "data": {
      "text/html": [
       "<div>\n",
       "<style scoped>\n",
       "    .dataframe tbody tr th:only-of-type {\n",
       "        vertical-align: middle;\n",
       "    }\n",
       "\n",
       "    .dataframe tbody tr th {\n",
       "        vertical-align: top;\n",
       "    }\n",
       "\n",
       "    .dataframe thead th {\n",
       "        text-align: right;\n",
       "    }\n",
       "</style>\n",
       "<table border=\"1\" class=\"dataframe\">\n",
       "  <thead>\n",
       "    <tr style=\"text-align: right;\">\n",
       "      <th></th>\n",
       "      <th>PM10</th>\n",
       "      <th>Pb</th>\n",
       "      <th>Cd</th>\n",
       "      <th>Cu</th>\n",
       "      <th>Cr</th>\n",
       "      <th>Zn</th>\n",
       "      <th>NOx</th>\n",
       "      <th>SO2</th>\n",
       "    </tr>\n",
       "  </thead>\n",
       "  <tbody>\n",
       "    <tr>\n",
       "      <th>0</th>\n",
       "      <td>120.71</td>\n",
       "      <td>2.0825</td>\n",
       "      <td>0.0</td>\n",
       "      <td>0.53</td>\n",
       "      <td>0.6100</td>\n",
       "      <td>0</td>\n",
       "      <td>84.17</td>\n",
       "      <td>40.3700</td>\n",
       "    </tr>\n",
       "    <tr>\n",
       "      <th>1</th>\n",
       "      <td>140.25</td>\n",
       "      <td>2.0825</td>\n",
       "      <td>0.0</td>\n",
       "      <td>0.10</td>\n",
       "      <td>0.9100</td>\n",
       "      <td>0</td>\n",
       "      <td>88.81</td>\n",
       "      <td>39.4800</td>\n",
       "    </tr>\n",
       "    <tr>\n",
       "      <th>2</th>\n",
       "      <td>107.01</td>\n",
       "      <td>1.3100</td>\n",
       "      <td>0.0</td>\n",
       "      <td>0.19</td>\n",
       "      <td>0.4800</td>\n",
       "      <td>0</td>\n",
       "      <td>81.49</td>\n",
       "      <td>45.8025</td>\n",
       "    </tr>\n",
       "    <tr>\n",
       "      <th>3</th>\n",
       "      <td>88.81</td>\n",
       "      <td>0.7600</td>\n",
       "      <td>0.0</td>\n",
       "      <td>0.33</td>\n",
       "      <td>0.3900</td>\n",
       "      <td>0</td>\n",
       "      <td>61.80</td>\n",
       "      <td>27.4200</td>\n",
       "    </tr>\n",
       "    <tr>\n",
       "      <th>4</th>\n",
       "      <td>75.05</td>\n",
       "      <td>0.6000</td>\n",
       "      <td>0.0</td>\n",
       "      <td>0.41</td>\n",
       "      <td>1.3225</td>\n",
       "      <td>0</td>\n",
       "      <td>48.71</td>\n",
       "      <td>19.2300</td>\n",
       "    </tr>\n",
       "  </tbody>\n",
       "</table>\n",
       "</div>"
      ],
      "text/plain": [
       "     PM10      Pb   Cd    Cu      Cr  Zn    NOx      SO2\n",
       "0  120.71  2.0825  0.0  0.53  0.6100   0  84.17  40.3700\n",
       "1  140.25  2.0825  0.0  0.10  0.9100   0  88.81  39.4800\n",
       "2  107.01  1.3100  0.0  0.19  0.4800   0  81.49  45.8025\n",
       "3   88.81  0.7600  0.0  0.33  0.3900   0  61.80  27.4200\n",
       "4   75.05  0.6000  0.0  0.41  1.3225   0  48.71  19.2300"
      ]
     },
     "execution_count": 83,
     "metadata": {},
     "output_type": "execute_result"
    }
   ],
   "source": [
    "new.head()"
   ]
  },
  {
   "cell_type": "code",
   "execution_count": 84,
   "id": "65630add",
   "metadata": {},
   "outputs": [],
   "source": [
    "# Putting feature variable to X\n",
    "X = new.drop('PM10', axis= 1)\n",
    "\n",
    "# Putting response variable to y\n",
    "y = new[['PM10']]\n",
    "\n",
    "#random_state is the seed used by the random number generator. It can be any integer.\n",
    "from sklearn.model_selection import train_test_split\n",
    "X_train, X_test, y_train, y_test =train_test_split(X, y, train_size=0.7 ,random_state=120)"
   ]
  },
  {
   "cell_type": "code",
   "execution_count": 85,
   "id": "c680cbe5",
   "metadata": {},
   "outputs": [
    {
     "data": {
      "text/html": [
       "<div>\n",
       "<style scoped>\n",
       "    .dataframe tbody tr th:only-of-type {\n",
       "        vertical-align: middle;\n",
       "    }\n",
       "\n",
       "    .dataframe tbody tr th {\n",
       "        vertical-align: top;\n",
       "    }\n",
       "\n",
       "    .dataframe thead th {\n",
       "        text-align: right;\n",
       "    }\n",
       "</style>\n",
       "<table border=\"1\" class=\"dataframe\">\n",
       "  <thead>\n",
       "    <tr style=\"text-align: right;\">\n",
       "      <th></th>\n",
       "      <th>PM10</th>\n",
       "      <th>Pb</th>\n",
       "      <th>Cd</th>\n",
       "      <th>Cu</th>\n",
       "      <th>Cr</th>\n",
       "      <th>Zn</th>\n",
       "      <th>NOx</th>\n",
       "      <th>SO2</th>\n",
       "    </tr>\n",
       "  </thead>\n",
       "  <tbody>\n",
       "    <tr>\n",
       "      <th>125</th>\n",
       "      <td>26.19</td>\n",
       "      <td>0.00</td>\n",
       "      <td>0.0</td>\n",
       "      <td>0.16</td>\n",
       "      <td>0.04</td>\n",
       "      <td>0</td>\n",
       "      <td>22.14</td>\n",
       "      <td>10.93</td>\n",
       "    </tr>\n",
       "    <tr>\n",
       "      <th>48</th>\n",
       "      <td>40.92</td>\n",
       "      <td>0.39</td>\n",
       "      <td>0.0</td>\n",
       "      <td>0.08</td>\n",
       "      <td>0.21</td>\n",
       "      <td>0</td>\n",
       "      <td>26.00</td>\n",
       "      <td>13.66</td>\n",
       "    </tr>\n",
       "    <tr>\n",
       "      <th>149</th>\n",
       "      <td>52.10</td>\n",
       "      <td>0.48</td>\n",
       "      <td>0.0</td>\n",
       "      <td>0.04</td>\n",
       "      <td>0.06</td>\n",
       "      <td>0</td>\n",
       "      <td>42.08</td>\n",
       "      <td>22.95</td>\n",
       "    </tr>\n",
       "    <tr>\n",
       "      <th>55</th>\n",
       "      <td>90.48</td>\n",
       "      <td>0.72</td>\n",
       "      <td>0.0</td>\n",
       "      <td>0.00</td>\n",
       "      <td>0.02</td>\n",
       "      <td>0</td>\n",
       "      <td>39.16</td>\n",
       "      <td>15.72</td>\n",
       "    </tr>\n",
       "    <tr>\n",
       "      <th>63</th>\n",
       "      <td>141.11</td>\n",
       "      <td>1.39</td>\n",
       "      <td>0.0</td>\n",
       "      <td>0.53</td>\n",
       "      <td>0.71</td>\n",
       "      <td>0</td>\n",
       "      <td>80.72</td>\n",
       "      <td>34.31</td>\n",
       "    </tr>\n",
       "  </tbody>\n",
       "</table>\n",
       "</div>"
      ],
      "text/plain": [
       "       PM10    Pb   Cd    Cu    Cr  Zn    NOx    SO2\n",
       "125   26.19  0.00  0.0  0.16  0.04   0  22.14  10.93\n",
       "48    40.92  0.39  0.0  0.08  0.21   0  26.00  13.66\n",
       "149   52.10  0.48  0.0  0.04  0.06   0  42.08  22.95\n",
       "55    90.48  0.72  0.0  0.00  0.02   0  39.16  15.72\n",
       "63   141.11  1.39  0.0  0.53  0.71   0  80.72  34.31"
      ]
     },
     "execution_count": 85,
     "metadata": {},
     "output_type": "execute_result"
    }
   ],
   "source": [
    "df = pd.concat([y_train, X_train], axis=1)\n",
    "df.head()"
   ]
  },
  {
   "cell_type": "markdown",
   "id": "8e3a15de",
   "metadata": {},
   "source": [
    "## Correlation Matrix"
   ]
  },
  {
   "cell_type": "code",
   "execution_count": 86,
   "id": "193473bd",
   "metadata": {
    "scrolled": true
   },
   "outputs": [
    {
     "data": {
      "text/html": [
       "<div>\n",
       "<style scoped>\n",
       "    .dataframe tbody tr th:only-of-type {\n",
       "        vertical-align: middle;\n",
       "    }\n",
       "\n",
       "    .dataframe tbody tr th {\n",
       "        vertical-align: top;\n",
       "    }\n",
       "\n",
       "    .dataframe thead th {\n",
       "        text-align: right;\n",
       "    }\n",
       "</style>\n",
       "<table border=\"1\" class=\"dataframe\">\n",
       "  <thead>\n",
       "    <tr style=\"text-align: right;\">\n",
       "      <th></th>\n",
       "      <th>PM10</th>\n",
       "      <th>Pb</th>\n",
       "      <th>Cd</th>\n",
       "      <th>Cu</th>\n",
       "      <th>Cr</th>\n",
       "      <th>Zn</th>\n",
       "      <th>NOx</th>\n",
       "      <th>SO2</th>\n",
       "    </tr>\n",
       "  </thead>\n",
       "  <tbody>\n",
       "    <tr>\n",
       "      <th>PM10</th>\n",
       "      <td>1.000000</td>\n",
       "      <td>0.881124</td>\n",
       "      <td>NaN</td>\n",
       "      <td>0.696160</td>\n",
       "      <td>0.841537</td>\n",
       "      <td>NaN</td>\n",
       "      <td>0.551074</td>\n",
       "      <td>0.519019</td>\n",
       "    </tr>\n",
       "    <tr>\n",
       "      <th>Pb</th>\n",
       "      <td>0.881124</td>\n",
       "      <td>1.000000</td>\n",
       "      <td>NaN</td>\n",
       "      <td>0.643005</td>\n",
       "      <td>0.771554</td>\n",
       "      <td>NaN</td>\n",
       "      <td>0.649313</td>\n",
       "      <td>0.595104</td>\n",
       "    </tr>\n",
       "    <tr>\n",
       "      <th>Cd</th>\n",
       "      <td>NaN</td>\n",
       "      <td>NaN</td>\n",
       "      <td>NaN</td>\n",
       "      <td>NaN</td>\n",
       "      <td>NaN</td>\n",
       "      <td>NaN</td>\n",
       "      <td>NaN</td>\n",
       "      <td>NaN</td>\n",
       "    </tr>\n",
       "    <tr>\n",
       "      <th>Cu</th>\n",
       "      <td>0.696160</td>\n",
       "      <td>0.643005</td>\n",
       "      <td>NaN</td>\n",
       "      <td>1.000000</td>\n",
       "      <td>0.759803</td>\n",
       "      <td>NaN</td>\n",
       "      <td>0.444826</td>\n",
       "      <td>0.433378</td>\n",
       "    </tr>\n",
       "    <tr>\n",
       "      <th>Cr</th>\n",
       "      <td>0.841537</td>\n",
       "      <td>0.771554</td>\n",
       "      <td>NaN</td>\n",
       "      <td>0.759803</td>\n",
       "      <td>1.000000</td>\n",
       "      <td>NaN</td>\n",
       "      <td>0.475384</td>\n",
       "      <td>0.438371</td>\n",
       "    </tr>\n",
       "    <tr>\n",
       "      <th>Zn</th>\n",
       "      <td>NaN</td>\n",
       "      <td>NaN</td>\n",
       "      <td>NaN</td>\n",
       "      <td>NaN</td>\n",
       "      <td>NaN</td>\n",
       "      <td>NaN</td>\n",
       "      <td>NaN</td>\n",
       "      <td>NaN</td>\n",
       "    </tr>\n",
       "    <tr>\n",
       "      <th>NOx</th>\n",
       "      <td>0.551074</td>\n",
       "      <td>0.649313</td>\n",
       "      <td>NaN</td>\n",
       "      <td>0.444826</td>\n",
       "      <td>0.475384</td>\n",
       "      <td>NaN</td>\n",
       "      <td>1.000000</td>\n",
       "      <td>0.860182</td>\n",
       "    </tr>\n",
       "    <tr>\n",
       "      <th>SO2</th>\n",
       "      <td>0.519019</td>\n",
       "      <td>0.595104</td>\n",
       "      <td>NaN</td>\n",
       "      <td>0.433378</td>\n",
       "      <td>0.438371</td>\n",
       "      <td>NaN</td>\n",
       "      <td>0.860182</td>\n",
       "      <td>1.000000</td>\n",
       "    </tr>\n",
       "  </tbody>\n",
       "</table>\n",
       "</div>"
      ],
      "text/plain": [
       "          PM10        Pb  Cd        Cu        Cr  Zn       NOx       SO2\n",
       "PM10  1.000000  0.881124 NaN  0.696160  0.841537 NaN  0.551074  0.519019\n",
       "Pb    0.881124  1.000000 NaN  0.643005  0.771554 NaN  0.649313  0.595104\n",
       "Cd         NaN       NaN NaN       NaN       NaN NaN       NaN       NaN\n",
       "Cu    0.696160  0.643005 NaN  1.000000  0.759803 NaN  0.444826  0.433378\n",
       "Cr    0.841537  0.771554 NaN  0.759803  1.000000 NaN  0.475384  0.438371\n",
       "Zn         NaN       NaN NaN       NaN       NaN NaN       NaN       NaN\n",
       "NOx   0.551074  0.649313 NaN  0.444826  0.475384 NaN  1.000000  0.860182\n",
       "SO2   0.519019  0.595104 NaN  0.433378  0.438371 NaN  0.860182  1.000000"
      ]
     },
     "execution_count": 86,
     "metadata": {},
     "output_type": "execute_result"
    }
   ],
   "source": [
    "df.corr()"
   ]
  },
  {
   "cell_type": "code",
   "execution_count": 90,
   "id": "23aaf784",
   "metadata": {},
   "outputs": [
    {
     "data": {
      "text/html": [
       "<div>\n",
       "<style scoped>\n",
       "    .dataframe tbody tr th:only-of-type {\n",
       "        vertical-align: middle;\n",
       "    }\n",
       "\n",
       "    .dataframe tbody tr th {\n",
       "        vertical-align: top;\n",
       "    }\n",
       "\n",
       "    .dataframe thead th {\n",
       "        text-align: right;\n",
       "    }\n",
       "</style>\n",
       "<table border=\"1\" class=\"dataframe\">\n",
       "  <thead>\n",
       "    <tr style=\"text-align: right;\">\n",
       "      <th></th>\n",
       "      <th>PM10</th>\n",
       "      <th>Pb</th>\n",
       "      <th>Cd</th>\n",
       "      <th>Cu</th>\n",
       "      <th>Cr</th>\n",
       "      <th>Zn</th>\n",
       "      <th>NOx</th>\n",
       "      <th>SO2</th>\n",
       "    </tr>\n",
       "  </thead>\n",
       "  <tbody>\n",
       "    <tr>\n",
       "      <th>125</th>\n",
       "      <td>26.19</td>\n",
       "      <td>0.0000</td>\n",
       "      <td>0.0</td>\n",
       "      <td>0.16</td>\n",
       "      <td>0.04</td>\n",
       "      <td>0</td>\n",
       "      <td>22.14</td>\n",
       "      <td>10.93</td>\n",
       "    </tr>\n",
       "    <tr>\n",
       "      <th>48</th>\n",
       "      <td>40.92</td>\n",
       "      <td>0.3900</td>\n",
       "      <td>0.0</td>\n",
       "      <td>0.08</td>\n",
       "      <td>0.21</td>\n",
       "      <td>0</td>\n",
       "      <td>26.00</td>\n",
       "      <td>13.66</td>\n",
       "    </tr>\n",
       "    <tr>\n",
       "      <th>149</th>\n",
       "      <td>52.10</td>\n",
       "      <td>0.4800</td>\n",
       "      <td>0.0</td>\n",
       "      <td>0.04</td>\n",
       "      <td>0.06</td>\n",
       "      <td>0</td>\n",
       "      <td>42.08</td>\n",
       "      <td>22.95</td>\n",
       "    </tr>\n",
       "    <tr>\n",
       "      <th>55</th>\n",
       "      <td>90.48</td>\n",
       "      <td>0.7200</td>\n",
       "      <td>0.0</td>\n",
       "      <td>0.00</td>\n",
       "      <td>0.02</td>\n",
       "      <td>0</td>\n",
       "      <td>39.16</td>\n",
       "      <td>15.72</td>\n",
       "    </tr>\n",
       "    <tr>\n",
       "      <th>63</th>\n",
       "      <td>141.11</td>\n",
       "      <td>1.3900</td>\n",
       "      <td>0.0</td>\n",
       "      <td>0.53</td>\n",
       "      <td>0.71</td>\n",
       "      <td>0</td>\n",
       "      <td>80.72</td>\n",
       "      <td>34.31</td>\n",
       "    </tr>\n",
       "    <tr>\n",
       "      <th>...</th>\n",
       "      <td>...</td>\n",
       "      <td>...</td>\n",
       "      <td>...</td>\n",
       "      <td>...</td>\n",
       "      <td>...</td>\n",
       "      <td>...</td>\n",
       "      <td>...</td>\n",
       "      <td>...</td>\n",
       "    </tr>\n",
       "    <tr>\n",
       "      <th>56</th>\n",
       "      <td>97.09</td>\n",
       "      <td>0.9800</td>\n",
       "      <td>0.0</td>\n",
       "      <td>0.02</td>\n",
       "      <td>0.19</td>\n",
       "      <td>0</td>\n",
       "      <td>49.19</td>\n",
       "      <td>29.14</td>\n",
       "    </tr>\n",
       "    <tr>\n",
       "      <th>47</th>\n",
       "      <td>43.29</td>\n",
       "      <td>0.3800</td>\n",
       "      <td>0.0</td>\n",
       "      <td>0.09</td>\n",
       "      <td>0.26</td>\n",
       "      <td>0</td>\n",
       "      <td>24.96</td>\n",
       "      <td>19.39</td>\n",
       "    </tr>\n",
       "    <tr>\n",
       "      <th>10</th>\n",
       "      <td>50.04</td>\n",
       "      <td>0.7100</td>\n",
       "      <td>0.0</td>\n",
       "      <td>0.08</td>\n",
       "      <td>0.19</td>\n",
       "      <td>0</td>\n",
       "      <td>39.96</td>\n",
       "      <td>17.58</td>\n",
       "    </tr>\n",
       "    <tr>\n",
       "      <th>126</th>\n",
       "      <td>19.22</td>\n",
       "      <td>0.0000</td>\n",
       "      <td>0.0</td>\n",
       "      <td>0.09</td>\n",
       "      <td>0.00</td>\n",
       "      <td>0</td>\n",
       "      <td>30.99</td>\n",
       "      <td>24.37</td>\n",
       "    </tr>\n",
       "    <tr>\n",
       "      <th>0</th>\n",
       "      <td>120.71</td>\n",
       "      <td>2.0825</td>\n",
       "      <td>0.0</td>\n",
       "      <td>0.53</td>\n",
       "      <td>0.61</td>\n",
       "      <td>0</td>\n",
       "      <td>84.17</td>\n",
       "      <td>40.37</td>\n",
       "    </tr>\n",
       "  </tbody>\n",
       "</table>\n",
       "<p>105 rows × 8 columns</p>\n",
       "</div>"
      ],
      "text/plain": [
       "       PM10      Pb   Cd    Cu    Cr  Zn    NOx    SO2\n",
       "125   26.19  0.0000  0.0  0.16  0.04   0  22.14  10.93\n",
       "48    40.92  0.3900  0.0  0.08  0.21   0  26.00  13.66\n",
       "149   52.10  0.4800  0.0  0.04  0.06   0  42.08  22.95\n",
       "55    90.48  0.7200  0.0  0.00  0.02   0  39.16  15.72\n",
       "63   141.11  1.3900  0.0  0.53  0.71   0  80.72  34.31\n",
       "..      ...     ...  ...   ...   ...  ..    ...    ...\n",
       "56    97.09  0.9800  0.0  0.02  0.19   0  49.19  29.14\n",
       "47    43.29  0.3800  0.0  0.09  0.26   0  24.96  19.39\n",
       "10    50.04  0.7100  0.0  0.08  0.19   0  39.96  17.58\n",
       "126   19.22  0.0000  0.0  0.09  0.00   0  30.99  24.37\n",
       "0    120.71  2.0825  0.0  0.53  0.61   0  84.17  40.37\n",
       "\n",
       "[105 rows x 8 columns]"
      ]
     },
     "execution_count": 90,
     "metadata": {},
     "output_type": "execute_result"
    }
   ],
   "source": [
    "df.drop(['Cd','Zn'],axis=1)\n",
    "df"
   ]
  },
  {
   "cell_type": "code",
   "execution_count": 91,
   "id": "4dd37115",
   "metadata": {},
   "outputs": [
    {
     "data": {
      "text/plain": [
       "<AxesSubplot:>"
      ]
     },
     "execution_count": 91,
     "metadata": {},
     "output_type": "execute_result"
    },
    {
     "data": {
      "image/png": "[encoded data removed]",
      "text/plain": [
       "<Figure size 432x288 with 2 Axes>"
      ]
     },
     "metadata": {
      "needs_background": "light"
     },
     "output_type": "display_data"
    }
   ],
   "source": [
    "sns.heatmap(df.corr(),annot = True)"
   ]
  },
  {
   "cell_type": "code",
   "execution_count": 88,
   "id": "35a98bad",
   "metadata": {},
   "outputs": [
    {
     "name": "stderr",
     "output_type": "stream",
     "text": [
      "C:\\Users\\justw\\anaconda3\\lib\\site-packages\\statsmodels\\regression\\linear_model.py:1738: RuntimeWarning: invalid value encountered in double_scalars\n",
      "  return 1 - self.ssr/self.uncentered_tss\n"
     ]
    },
    {
     "data": {
      "text/plain": [
       "Pb     7.687853\n",
       "Cd          NaN\n",
       "Cu     3.751185\n",
       "Cr     6.589538\n",
       "Zn          NaN\n",
       "SO2    3.835246\n",
       "dtype: float64"
      ]
     },
     "execution_count": 88,
     "metadata": {},
     "output_type": "execute_result"
    }
   ],
   "source": [
    "X1=df.drop(['PM10','NOx'],axis=1)\n",
    "series_before = pd.Series([variance_inflation_factor(X1.values, i) \n",
    "                           for i in range(X1.shape[1])],  # i=0,1,2\n",
    "                          index=X1.columns)  # column name\n",
    "series_before"
   ]
  },
  {
   "cell_type": "code",
   "execution_count": 89,
   "id": "631c2967",
   "metadata": {},
   "outputs": [
    {
     "data": {
      "text/html": [
       "<div>\n",
       "<style scoped>\n",
       "    .dataframe tbody tr th:only-of-type {\n",
       "        vertical-align: middle;\n",
       "    }\n",
       "\n",
       "    .dataframe tbody tr th {\n",
       "        vertical-align: top;\n",
       "    }\n",
       "\n",
       "    .dataframe thead th {\n",
       "        text-align: right;\n",
       "    }\n",
       "</style>\n",
       "<table border=\"1\" class=\"dataframe\">\n",
       "  <thead>\n",
       "    <tr style=\"text-align: right;\">\n",
       "      <th></th>\n",
       "      <th>PM10</th>\n",
       "      <th>Pb</th>\n",
       "      <th>Cd</th>\n",
       "      <th>Cu</th>\n",
       "      <th>Cr</th>\n",
       "      <th>Zn</th>\n",
       "      <th>NOx</th>\n",
       "      <th>SO2</th>\n",
       "    </tr>\n",
       "  </thead>\n",
       "  <tbody>\n",
       "    <tr>\n",
       "      <th>125</th>\n",
       "      <td>26.19</td>\n",
       "      <td>0.0000</td>\n",
       "      <td>0.0</td>\n",
       "      <td>0.16</td>\n",
       "      <td>0.04</td>\n",
       "      <td>0</td>\n",
       "      <td>22.14</td>\n",
       "      <td>10.93</td>\n",
       "    </tr>\n",
       "    <tr>\n",
       "      <th>48</th>\n",
       "      <td>40.92</td>\n",
       "      <td>0.3900</td>\n",
       "      <td>0.0</td>\n",
       "      <td>0.08</td>\n",
       "      <td>0.21</td>\n",
       "      <td>0</td>\n",
       "      <td>26.00</td>\n",
       "      <td>13.66</td>\n",
       "    </tr>\n",
       "    <tr>\n",
       "      <th>149</th>\n",
       "      <td>52.10</td>\n",
       "      <td>0.4800</td>\n",
       "      <td>0.0</td>\n",
       "      <td>0.04</td>\n",
       "      <td>0.06</td>\n",
       "      <td>0</td>\n",
       "      <td>42.08</td>\n",
       "      <td>22.95</td>\n",
       "    </tr>\n",
       "    <tr>\n",
       "      <th>55</th>\n",
       "      <td>90.48</td>\n",
       "      <td>0.7200</td>\n",
       "      <td>0.0</td>\n",
       "      <td>0.00</td>\n",
       "      <td>0.02</td>\n",
       "      <td>0</td>\n",
       "      <td>39.16</td>\n",
       "      <td>15.72</td>\n",
       "    </tr>\n",
       "    <tr>\n",
       "      <th>63</th>\n",
       "      <td>141.11</td>\n",
       "      <td>1.3900</td>\n",
       "      <td>0.0</td>\n",
       "      <td>0.53</td>\n",
       "      <td>0.71</td>\n",
       "      <td>0</td>\n",
       "      <td>80.72</td>\n",
       "      <td>34.31</td>\n",
       "    </tr>\n",
       "    <tr>\n",
       "      <th>...</th>\n",
       "      <td>...</td>\n",
       "      <td>...</td>\n",
       "      <td>...</td>\n",
       "      <td>...</td>\n",
       "      <td>...</td>\n",
       "      <td>...</td>\n",
       "      <td>...</td>\n",
       "      <td>...</td>\n",
       "    </tr>\n",
       "    <tr>\n",
       "      <th>56</th>\n",
       "      <td>97.09</td>\n",
       "      <td>0.9800</td>\n",
       "      <td>0.0</td>\n",
       "      <td>0.02</td>\n",
       "      <td>0.19</td>\n",
       "      <td>0</td>\n",
       "      <td>49.19</td>\n",
       "      <td>29.14</td>\n",
       "    </tr>\n",
       "    <tr>\n",
       "      <th>47</th>\n",
       "      <td>43.29</td>\n",
       "      <td>0.3800</td>\n",
       "      <td>0.0</td>\n",
       "      <td>0.09</td>\n",
       "      <td>0.26</td>\n",
       "      <td>0</td>\n",
       "      <td>24.96</td>\n",
       "      <td>19.39</td>\n",
       "    </tr>\n",
       "    <tr>\n",
       "      <th>10</th>\n",
       "      <td>50.04</td>\n",
       "      <td>0.7100</td>\n",
       "      <td>0.0</td>\n",
       "      <td>0.08</td>\n",
       "      <td>0.19</td>\n",
       "      <td>0</td>\n",
       "      <td>39.96</td>\n",
       "      <td>17.58</td>\n",
       "    </tr>\n",
       "    <tr>\n",
       "      <th>126</th>\n",
       "      <td>19.22</td>\n",
       "      <td>0.0000</td>\n",
       "      <td>0.0</td>\n",
       "      <td>0.09</td>\n",
       "      <td>0.00</td>\n",
       "      <td>0</td>\n",
       "      <td>30.99</td>\n",
       "      <td>24.37</td>\n",
       "    </tr>\n",
       "    <tr>\n",
       "      <th>0</th>\n",
       "      <td>120.71</td>\n",
       "      <td>2.0825</td>\n",
       "      <td>0.0</td>\n",
       "      <td>0.53</td>\n",
       "      <td>0.61</td>\n",
       "      <td>0</td>\n",
       "      <td>84.17</td>\n",
       "      <td>40.37</td>\n",
       "    </tr>\n",
       "  </tbody>\n",
       "</table>\n",
       "<p>105 rows × 8 columns</p>\n",
       "</div>"
      ],
      "text/plain": [
       "       PM10      Pb   Cd    Cu    Cr  Zn    NOx    SO2\n",
       "125   26.19  0.0000  0.0  0.16  0.04   0  22.14  10.93\n",
       "48    40.92  0.3900  0.0  0.08  0.21   0  26.00  13.66\n",
       "149   52.10  0.4800  0.0  0.04  0.06   0  42.08  22.95\n",
       "55    90.48  0.7200  0.0  0.00  0.02   0  39.16  15.72\n",
       "63   141.11  1.3900  0.0  0.53  0.71   0  80.72  34.31\n",
       "..      ...     ...  ...   ...   ...  ..    ...    ...\n",
       "56    97.09  0.9800  0.0  0.02  0.19   0  49.19  29.14\n",
       "47    43.29  0.3800  0.0  0.09  0.26   0  24.96  19.39\n",
       "10    50.04  0.7100  0.0  0.08  0.19   0  39.96  17.58\n",
       "126   19.22  0.0000  0.0  0.09  0.00   0  30.99  24.37\n",
       "0    120.71  2.0825  0.0  0.53  0.61   0  84.17  40.37\n",
       "\n",
       "[105 rows x 8 columns]"
      ]
     },
     "execution_count": 89,
     "metadata": {},
     "output_type": "execute_result"
    }
   ],
   "source": [
    "df"
   ]
  },
  {
   "cell_type": "code",
   "execution_count": null,
   "id": "64af9e41",
   "metadata": {},
   "outputs": [],
   "source": []
  },
  {
   "cell_type": "code",
   "execution_count": null,
   "id": "41facfab",
   "metadata": {},
   "outputs": [],
   "source": []
  },
  {
   "cell_type": "code",
   "execution_count": null,
   "id": "e237191f",
   "metadata": {},
   "outputs": [],
   "source": []
  }
 ],
 "metadata": {
  "kernelspec": {
   "display_name": "Python 3 (ipykernel)",
   "language": "python",
   "name": "python3"
  },
  "language_info": {
   "codemirror_mode": {
    "name": "ipython",
    "version": 3
   },
   "file_extension": ".py",
   "mimetype": "text/x-python",
   "name": "python",
   "nbconvert_exporter": "python",
   "pygments_lexer": "ipython3",
   "version": "3.9.12"
  }
 },
 "nbformat": 4,
 "nbformat_minor": 5
}
